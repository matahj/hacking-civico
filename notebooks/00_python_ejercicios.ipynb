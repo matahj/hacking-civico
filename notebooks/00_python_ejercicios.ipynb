{
  "nbformat": 4,
  "nbformat_minor": 0,
  "metadata": {
    "colab": {
      "name": "00-python-ejercicios.ipynb",
      "provenance": [],
      "collapsed_sections": [],
      "toc_visible": true,
      "authorship_tag": "ABX9TyNJFkDVT+oE4xVkY7be5STe",
      "include_colab_link": true
    },
    "kernelspec": {
      "name": "python3",
      "display_name": "Python 3"
    }
  },
  "cells": [
    {
      "cell_type": "markdown",
      "metadata": {
        "id": "view-in-github",
        "colab_type": "text"
      },
      "source": [
        "<a href=\"https://colab.research.google.com/github/matahj/hacking-civico/blob/master/notebooks/00_python_ejercicios.ipynb\" target=\"_parent\"><img src=\"https://colab.research.google.com/assets/colab-badge.svg\" alt=\"Open In Colab\"/></a>"
      ]
    },
    {
      "cell_type": "markdown",
      "metadata": {
        "id": "ENQWhsWoR9Lb",
        "colab_type": "text"
      },
      "source": [
        "### Hacking cívico: Ruta coder\n",
        "\n",
        "Markdown\n",
        "- item1\n",
        "- item2\n",
        "\n",
        "~~~\n",
        "cóódigo\n",
        "~~~\n",
        "\n"
      ]
    },
    {
      "cell_type": "code",
      "metadata": {
        "id": "XPsazjyoQ2RD",
        "colab_type": "code",
        "colab": {
          "base_uri": "https://localhost:8080/",
          "height": 52
        },
        "outputId": "07234748-c294-45c8-ebdc-08f7f36b72c9"
      },
      "source": [
        "# Tipos de datos\n",
        "\n",
        "numero_1 = 4\n",
        "numero_2 = 4.0\n",
        "\n",
        "print(type(numero_1))\n",
        "print(type(numero_2))"
      ],
      "execution_count": null,
      "outputs": [
        {
          "output_type": "stream",
          "text": [
            "<class 'int'>\n",
            "<class 'float'>\n"
          ],
          "name": "stdout"
        }
      ]
    },
    {
      "cell_type": "code",
      "metadata": {
        "id": "MFOXtxx7STY5",
        "colab_type": "code",
        "colab": {
          "base_uri": "https://localhost:8080/",
          "height": 52
        },
        "outputId": "c20e3cb2-3e4e-4293-86e2-a197b2d0425a"
      },
      "source": [
        "suma = 5+3.1\n",
        "print(suma)\n",
        "print(type(suma))"
      ],
      "execution_count": null,
      "outputs": [
        {
          "output_type": "stream",
          "text": [
            "8.1\n",
            "<class 'float'>\n"
          ],
          "name": "stdout"
        }
      ]
    },
    {
      "cell_type": "code",
      "metadata": {
        "id": "5rU91YWLRDlV",
        "colab_type": "code",
        "colab": {
          "base_uri": "https://localhost:8080/",
          "height": 86
        },
        "outputId": "eabf1416-7cb4-405a-87f6-47e0cdc99d0b"
      },
      "source": [
        "numInt = int(6.6)\n",
        "numFloat = float(3)\n",
        "\n",
        "print(numInt)\n",
        "print(type(numInt))\n",
        "print(numFloat)\n",
        "print(type(numFloat))"
      ],
      "execution_count": null,
      "outputs": [
        {
          "output_type": "stream",
          "text": [
            "6\n",
            "<class 'int'>\n",
            "3.0\n",
            "<class 'float'>\n"
          ],
          "name": "stdout"
        }
      ]
    },
    {
      "cell_type": "code",
      "metadata": {
        "id": "b1KIC1R0TBYA",
        "colab_type": "code",
        "colab": {
          "base_uri": "https://localhost:8080/",
          "height": 69
        },
        "outputId": "70e388b3-2ce2-40bc-aee6-897fad181c49"
      },
      "source": [
        "mensaje_1 = \" Hola\"\n",
        "print(mensaje_1)\n",
        "\n",
        "mensaje_2 = 'bienvenidos'\n",
        "print(mensaje_2)\n",
        "\n",
        "mensaje = 3*mensaje_1 + \" \" + mensaje_2\n",
        "print(mensaje)"
      ],
      "execution_count": null,
      "outputs": [
        {
          "output_type": "stream",
          "text": [
            " Hola\n",
            "bienvenidos\n",
            " Hola Hola Hola bienvenidos\n"
          ],
          "name": "stdout"
        }
      ]
    },
    {
      "cell_type": "code",
      "metadata": {
        "id": "m6-kpSOkTXcN",
        "colab_type": "code",
        "colab": {
          "base_uri": "https://localhost:8080/",
          "height": 34
        },
        "outputId": "e93edd81-c05e-4520-98fc-e6f6eff11f02"
      },
      "source": [
        "# Condicionales\n",
        "\n",
        "valor_imeca = 120\n",
        "\n",
        "if valor_imeca > 100:\n",
        "  print(\"La calidad del aire es mala\")\n",
        "\n"
      ],
      "execution_count": null,
      "outputs": [
        {
          "output_type": "stream",
          "text": [
            "La calidad del aire es mala\n"
          ],
          "name": "stdout"
        }
      ]
    },
    {
      "cell_type": "code",
      "metadata": {
        "id": "n28F1Df6aEgA",
        "colab_type": "code",
        "colab": {
          "base_uri": "https://localhost:8080/",
          "height": 34
        },
        "outputId": "9a9f374a-44ac-4754-98be-c5960e3eea50"
      },
      "source": [
        "ciudad = \"cdmx\"\n",
        "\n",
        "if ciudad==\"León\":\n",
        "  print(\"Sí es León\")\n",
        "else:\n",
        "  print(\"No es león\")"
      ],
      "execution_count": null,
      "outputs": [
        {
          "output_type": "stream",
          "text": [
            "No es león\n"
          ],
          "name": "stdout"
        }
      ]
    },
    {
      "cell_type": "code",
      "metadata": {
        "id": "L6Vok9vQaXiM",
        "colab_type": "code",
        "colab": {
          "base_uri": "https://localhost:8080/",
          "height": 34
        },
        "outputId": "ade40806-3e2d-4b2a-d72f-ef4b8bb2f593"
      },
      "source": [
        "numero = 4\n",
        "if numero%2 == 0:\n",
        "  print(\"El número --- es impar\")\n",
        "else:\n",
        "  print(\"El número \" + str(numero) + \" es impar\")"
      ],
      "execution_count": null,
      "outputs": [
        {
          "output_type": "stream",
          "text": [
            "El número --- es impar\n"
          ],
          "name": "stdout"
        }
      ]
    },
    {
      "cell_type": "code",
      "metadata": {
        "id": "VBXOZipqaxwo",
        "colab_type": "code",
        "colab": {}
      },
      "source": [
        "#elif"
      ],
      "execution_count": null,
      "outputs": []
    },
    {
      "cell_type": "code",
      "metadata": {
        "id": "BLEINOKmeL0u",
        "colab_type": "code",
        "colab": {
          "base_uri": "https://localhost:8080/",
          "height": 86
        },
        "outputId": "3158c7f2-ae0d-401f-8250-acc7fffc5b1b"
      },
      "source": [
        "# ciclo for\n",
        "\n",
        "for i in \"hola\":\n",
        "  print(i)"
      ],
      "execution_count": null,
      "outputs": [
        {
          "output_type": "stream",
          "text": [
            "h\n",
            "o\n",
            "l\n",
            "a\n"
          ],
          "name": "stdout"
        }
      ]
    },
    {
      "cell_type": "code",
      "metadata": {
        "id": "ctwt-hfyeVwt",
        "colab_type": "code",
        "colab": {
          "base_uri": "https://localhost:8080/",
          "height": 69
        },
        "outputId": "6297fa54-1394-4ffa-e557-befa6df4eda9"
      },
      "source": [
        "# range(start, stop, step)\n",
        "# stop = fin-1  obligarotio\n",
        "# por defecto range(0,10,1)\n",
        "\n",
        "for i in range(3):\n",
        "  print(i)"
      ],
      "execution_count": null,
      "outputs": [
        {
          "output_type": "stream",
          "text": [
            "0\n",
            "1\n",
            "2\n"
          ],
          "name": "stdout"
        }
      ]
    },
    {
      "cell_type": "code",
      "metadata": {
        "id": "GVHOv41be7DV",
        "colab_type": "code",
        "colab": {
          "base_uri": "https://localhost:8080/",
          "height": 364
        },
        "outputId": "225a8939-4603-4300-ae3f-67438f55a092"
      },
      "source": [
        "for i in range(5,101,5):\n",
        "  print(i)"
      ],
      "execution_count": null,
      "outputs": [
        {
          "output_type": "stream",
          "text": [
            "5\n",
            "10\n",
            "15\n",
            "20\n",
            "25\n",
            "30\n",
            "35\n",
            "40\n",
            "45\n",
            "50\n",
            "55\n",
            "60\n",
            "65\n",
            "70\n",
            "75\n",
            "80\n",
            "85\n",
            "90\n",
            "95\n",
            "100\n"
          ],
          "name": "stdout"
        }
      ]
    },
    {
      "cell_type": "code",
      "metadata": {
        "id": "sKsrN_fSfHr-",
        "colab_type": "code",
        "colab": {}
      },
      "source": [
        "# ciclo while"
      ],
      "execution_count": null,
      "outputs": []
    }
  ]
}