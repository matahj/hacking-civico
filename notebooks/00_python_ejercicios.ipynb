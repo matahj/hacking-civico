{
  "nbformat": 4,
  "nbformat_minor": 0,
  "metadata": {
    "colab": {
      "name": "00-python-ejercicios.ipynb",
      "provenance": [],
      "collapsed_sections": [],
      "authorship_tag": "ABX9TyNdUWTfrvPPmALJaoNGwflf",
      "include_colab_link": true
    },
    "kernelspec": {
      "name": "python3",
      "display_name": "Python 3"
    }
  },
  "cells": [
    {
      "cell_type": "markdown",
      "metadata": {
        "id": "view-in-github",
        "colab_type": "text"
      },
      "source": [
        "<a href=\"https://colab.research.google.com/github/matahj/hacking-civico/blob/master/notebooks/00_python_ejercicios.ipynb\" target=\"_parent\"><img src=\"https://colab.research.google.com/assets/colab-badge.svg\" alt=\"Open In Colab\"/></a>"
      ]
    },
    {
      "cell_type": "markdown",
      "metadata": {
        "id": "ENQWhsWoR9Lb",
        "colab_type": "text"
      },
      "source": [
        "### Hacking cívico: Ruta coder\n",
        "\n",
        "Markdown\n",
        "- item1\n",
        "- item2\n",
        "\n",
        "~~~\n",
        "cóódigo\n",
        "~~~\n",
        "\n"
      ]
    },
    {
      "cell_type": "code",
      "metadata": {
        "id": "aHI3RS_pvJWQ",
        "colab_type": "code",
        "colab": {
          "base_uri": "https://localhost:8080/",
          "height": 69
        },
        "outputId": "c8d601f6-6c28-4b1c-e9e4-eb6677e1a560"
      },
      "source": [
        "#Comentario\n",
        "\"\"\"\n",
        "comentario\n",
        "\"\"\"\n",
        "# Entrada-Salida\n",
        "print(\"Escribe un número\")\n",
        "num = int( input() )\n",
        "print(num+5)"
      ],
      "execution_count": 4,
      "outputs": [
        {
          "output_type": "stream",
          "text": [
            "Escribe un numero\n",
            "5\n",
            "10\n"
          ],
          "name": "stdout"
        }
      ]
    },
    {
      "cell_type": "code",
      "metadata": {
        "id": "nxvzyw2cv_eQ",
        "colab_type": "code",
        "colab": {
          "base_uri": "https://localhost:8080/",
          "height": 34
        },
        "outputId": "19f66869-bfea-4aa4-94ae-bbca84e5d4da"
      },
      "source": [
        "#Variables\n",
        "miVariable = 2\n",
        "print(miVariable)"
      ],
      "execution_count": 7,
      "outputs": [
        {
          "output_type": "stream",
          "text": [
            "2\n"
          ],
          "name": "stdout"
        }
      ]
    },
    {
      "cell_type": "code",
      "metadata": {
        "id": "XPsazjyoQ2RD",
        "colab_type": "code",
        "colab": {
          "base_uri": "https://localhost:8080/",
          "height": 104
        },
        "outputId": "06b8ab1b-9284-4865-9f69-57bfb77ade72"
      },
      "source": [
        "# Tipos de datos\n",
        "numero_1 = 4\n",
        "numero_2 = 4.0\n",
        "booleano1 = True\n",
        "booleano2 = False\n",
        "string1 = \"cadena\"\n",
        "\n",
        "print(type(numero_1))\n",
        "print(type(numero_2))\n",
        "print(type(booleano1))\n",
        "print(type(booleano2))\n",
        "print(type(string1))"
      ],
      "execution_count": 13,
      "outputs": [
        {
          "output_type": "stream",
          "text": [
            "<class 'int'>\n",
            "<class 'float'>\n",
            "<class 'bool'>\n",
            "<class 'bool'>\n",
            "<class 'str'>\n"
          ],
          "name": "stdout"
        }
      ]
    },
    {
      "cell_type": "code",
      "metadata": {
        "id": "MFOXtxx7STY5",
        "colab_type": "code",
        "colab": {
          "base_uri": "https://localhost:8080/",
          "height": 52
        },
        "outputId": "b0402298-4259-4048-cef3-bf43ebd98693"
      },
      "source": [
        "#Casting\n",
        "suma = 5+3.1\n",
        "print(suma)\n",
        "print(type(suma))"
      ],
      "execution_count": 14,
      "outputs": [
        {
          "output_type": "stream",
          "text": [
            "8.1\n",
            "<class 'float'>\n"
          ],
          "name": "stdout"
        }
      ]
    },
    {
      "cell_type": "code",
      "metadata": {
        "id": "5rU91YWLRDlV",
        "colab_type": "code",
        "colab": {
          "base_uri": "https://localhost:8080/",
          "height": 86
        },
        "outputId": "eabf1416-7cb4-405a-87f6-47e0cdc99d0b"
      },
      "source": [
        "numInt = int(6.6)\n",
        "numFloat = float(3)\n",
        "\n",
        "print(numInt)\n",
        "print(type(numInt))\n",
        "print(numFloat)\n",
        "print(type(numFloat))"
      ],
      "execution_count": null,
      "outputs": [
        {
          "output_type": "stream",
          "text": [
            "6\n",
            "<class 'int'>\n",
            "3.0\n",
            "<class 'float'>\n"
          ],
          "name": "stdout"
        }
      ]
    },
    {
      "cell_type": "code",
      "metadata": {
        "id": "b1KIC1R0TBYA",
        "colab_type": "code",
        "colab": {
          "base_uri": "https://localhost:8080/",
          "height": 69
        },
        "outputId": "c4a44c9c-a3ef-4c7a-8a7e-6584a1351724"
      },
      "source": [
        "#Concatenación + , repetición *\n",
        "mensaje_1 = \" Hola\"\n",
        "print(mensaje_1)\n",
        "\n",
        "mensaje_2 = 'bienvenidos'\n",
        "print(mensaje_2)\n",
        "\n",
        "mensaje = 3*mensaje_1 + \" \" + mensaje_2\n",
        "print(mensaje)"
      ],
      "execution_count": 15,
      "outputs": [
        {
          "output_type": "stream",
          "text": [
            " Hola\n",
            "bienvenidos\n",
            " Hola Hola Hola bienvenidos\n"
          ],
          "name": "stdout"
        }
      ]
    },
    {
      "cell_type": "code",
      "metadata": {
        "id": "zqJCtBhZxjMY",
        "colab_type": "code",
        "colab": {}
      },
      "source": [
        "#Operadores: \n",
        "# +,-,*,/,%,**,//\n",
        "# +=,-=,*=\n",
        "# >,<,<=,>=,==,!=\n",
        "# and, or, not"
      ],
      "execution_count": null,
      "outputs": []
    },
    {
      "cell_type": "code",
      "metadata": {
        "id": "MrVjADL4yyJ8",
        "colab_type": "code",
        "colab": {
          "base_uri": "https://localhost:8080/",
          "height": 52
        },
        "outputId": "8968d7a7-fa93-45f9-917b-0bfe175b851e"
      },
      "source": [
        "#Control de flujo\n",
        "\n",
        "# Condicionales\n",
        "\n",
        "valor_imeca = 120\n",
        "\n",
        "if valor_imeca > 100:\n",
        "  print(\"La calidad del aire es mala\")\n",
        "\n",
        "ciudad = \"cdmx\"\n",
        "\n",
        "if ciudad==\"León\":\n",
        "  print(\"Sí es León\")\n",
        "else:\n",
        "  print(\"No es león\")"
      ],
      "execution_count": 17,
      "outputs": [
        {
          "output_type": "stream",
          "text": [
            "La calidad del aire es mala\n",
            "No es león\n"
          ],
          "name": "stdout"
        }
      ]
    },
    {
      "cell_type": "code",
      "metadata": {
        "id": "L6Vok9vQaXiM",
        "colab_type": "code",
        "colab": {
          "base_uri": "https://localhost:8080/",
          "height": 34
        },
        "outputId": "ae347587-af9d-4d60-f61b-7ad8bf4668c3"
      },
      "source": [
        "numero = 3\n",
        "\n",
        "if numero%2 == 0:\n",
        "  print(\"El número \" + str(numero) + \" es PAR\")\n",
        "else:\n",
        "  print(\"El número \" + str(numero) + \" es IMPAR\")"
      ],
      "execution_count": 20,
      "outputs": [
        {
          "output_type": "stream",
          "text": [
            "El número 3 es IMPAR\n"
          ],
          "name": "stdout"
        }
      ]
    },
    {
      "cell_type": "code",
      "metadata": {
        "id": "VBXOZipqaxwo",
        "colab_type": "code",
        "colab": {}
      },
      "source": [
        "#if-elif-else"
      ],
      "execution_count": null,
      "outputs": []
    },
    {
      "cell_type": "code",
      "metadata": {
        "id": "BLEINOKmeL0u",
        "colab_type": "code",
        "colab": {
          "base_uri": "https://localhost:8080/",
          "height": 86
        },
        "outputId": "3158c7f2-ae0d-401f-8250-acc7fffc5b1b"
      },
      "source": [
        "# ciclo for\n",
        "\n",
        "for i in \"hola\":\n",
        "  print(i)"
      ],
      "execution_count": null,
      "outputs": [
        {
          "output_type": "stream",
          "text": [
            "h\n",
            "o\n",
            "l\n",
            "a\n"
          ],
          "name": "stdout"
        }
      ]
    },
    {
      "cell_type": "code",
      "metadata": {
        "id": "ctwt-hfyeVwt",
        "colab_type": "code",
        "colab": {
          "base_uri": "https://localhost:8080/",
          "height": 69
        },
        "outputId": "6297fa54-1394-4ffa-e557-befa6df4eda9"
      },
      "source": [
        "# range(start, stop, step)\n",
        "# stop = fin-1  obligarotio\n",
        "# por defecto range(0,10,1)\n",
        "\n",
        "for i in range(3):\n",
        "  print(i)"
      ],
      "execution_count": null,
      "outputs": [
        {
          "output_type": "stream",
          "text": [
            "0\n",
            "1\n",
            "2\n"
          ],
          "name": "stdout"
        }
      ]
    },
    {
      "cell_type": "code",
      "metadata": {
        "id": "GVHOv41be7DV",
        "colab_type": "code",
        "colab": {
          "base_uri": "https://localhost:8080/",
          "height": 364
        },
        "outputId": "225a8939-4603-4300-ae3f-67438f55a092"
      },
      "source": [
        "for i in range(5,101,5):\n",
        "  print(i)"
      ],
      "execution_count": null,
      "outputs": [
        {
          "output_type": "stream",
          "text": [
            "5\n",
            "10\n",
            "15\n",
            "20\n",
            "25\n",
            "30\n",
            "35\n",
            "40\n",
            "45\n",
            "50\n",
            "55\n",
            "60\n",
            "65\n",
            "70\n",
            "75\n",
            "80\n",
            "85\n",
            "90\n",
            "95\n",
            "100\n"
          ],
          "name": "stdout"
        }
      ]
    },
    {
      "cell_type": "code",
      "metadata": {
        "id": "sKsrN_fSfHr-",
        "colab_type": "code",
        "colab": {
          "base_uri": "https://localhost:8080/",
          "height": 191
        },
        "outputId": "bb6082e2-48f7-4f90-b0ee-6629f894ba08"
      },
      "source": [
        "# ciclo while\n",
        "\n",
        "dia = 0\n",
        "infectados = 3\n",
        "\n",
        "while dia < 10:\n",
        "  print(\"Día: \" + str(dia) + \"infectados: \" + str(infectados) )\n",
        "  infectados *= 2\n",
        "  dia+=1"
      ],
      "execution_count": 24,
      "outputs": [
        {
          "output_type": "stream",
          "text": [
            "Día: 0infectados: 3\n",
            "Día: 1infectados: 6\n",
            "Día: 2infectados: 12\n",
            "Día: 3infectados: 24\n",
            "Día: 4infectados: 48\n",
            "Día: 5infectados: 96\n",
            "Día: 6infectados: 192\n",
            "Día: 7infectados: 384\n",
            "Día: 8infectados: 768\n",
            "Día: 9infectados: 1536\n"
          ],
          "name": "stdout"
        }
      ]
    }
  ]
}