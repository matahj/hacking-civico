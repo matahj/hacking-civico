{
  "nbformat": 4,
  "nbformat_minor": 0,
  "metadata": {
    "colab": {
      "name": "01-python.ipynb",
      "provenance": [],
      "collapsed_sections": [],
      "authorship_tag": "ABX9TyOQ9RLYMCxsCOer1IfZrKQY",
      "include_colab_link": true
    },
    "kernelspec": {
      "name": "python3",
      "display_name": "Python 3"
    }
  },
  "cells": [
    {
      "cell_type": "markdown",
      "metadata": {
        "id": "view-in-github",
        "colab_type": "text"
      },
      "source": [
        "<a href=\"https://colab.research.google.com/github/matahj/hacking-civico/blob/master/nootebooks/01_python.ipynb\" target=\"_parent\"><img src=\"https://colab.research.google.com/assets/colab-badge.svg\" alt=\"Open In Colab\"/></a>"
      ]
    },
    {
      "cell_type": "markdown",
      "metadata": {
        "id": "ENQWhsWoR9Lb",
        "colab_type": "text"
      },
      "source": [
        "### Hacking cívico: Ruta coder\n",
        "\n",
        "Markdown\n",
        "- item1\n",
        "- item2\n",
        "\n",
        "~~~\n",
        "cóódigo\n",
        "~~~\n",
        "\n"
      ]
    },
    {
      "cell_type": "code",
      "metadata": {
        "id": "XPsazjyoQ2RD",
        "colab_type": "code",
        "colab": {
          "base_uri": "https://localhost:8080/",
          "height": 52
        },
        "outputId": "07234748-c294-45c8-ebdc-08f7f36b72c9"
      },
      "source": [
        "# Tipos de datos\n",
        "\n",
        "numero_1 = 4\n",
        "numero_2 = 4.0\n",
        "\n",
        "print(type(numero_1))\n",
        "print(type(numero_2))"
      ],
      "execution_count": null,
      "outputs": [
        {
          "output_type": "stream",
          "text": [
            "<class 'int'>\n",
            "<class 'float'>\n"
          ],
          "name": "stdout"
        }
      ]
    },
    {
      "cell_type": "code",
      "metadata": {
        "id": "MFOXtxx7STY5",
        "colab_type": "code",
        "colab": {
          "base_uri": "https://localhost:8080/",
          "height": 52
        },
        "outputId": "c20e3cb2-3e4e-4293-86e2-a197b2d0425a"
      },
      "source": [
        "suma = 5+3.1\n",
        "print(suma)\n",
        "print(type(suma))"
      ],
      "execution_count": null,
      "outputs": [
        {
          "output_type": "stream",
          "text": [
            "8.1\n",
            "<class 'float'>\n"
          ],
          "name": "stdout"
        }
      ]
    },
    {
      "cell_type": "code",
      "metadata": {
        "id": "5rU91YWLRDlV",
        "colab_type": "code",
        "colab": {
          "base_uri": "https://localhost:8080/",
          "height": 86
        },
        "outputId": "eabf1416-7cb4-405a-87f6-47e0cdc99d0b"
      },
      "source": [
        "numInt = int(6.6)\n",
        "numFloat = float(3)\n",
        "\n",
        "print(numInt)\n",
        "print(type(numInt))\n",
        "print(numFloat)\n",
        "print(type(numFloat))"
      ],
      "execution_count": null,
      "outputs": [
        {
          "output_type": "stream",
          "text": [
            "6\n",
            "<class 'int'>\n",
            "3.0\n",
            "<class 'float'>\n"
          ],
          "name": "stdout"
        }
      ]
    },
    {
      "cell_type": "code",
      "metadata": {
        "id": "b1KIC1R0TBYA",
        "colab_type": "code",
        "colab": {
          "base_uri": "https://localhost:8080/",
          "height": 69
        },
        "outputId": "70e388b3-2ce2-40bc-aee6-897fad181c49"
      },
      "source": [
        "mensaje_1 = \" Hola\"\n",
        "print(mensaje_1)\n",
        "\n",
        "mensaje_2 = 'bienvenidos'\n",
        "print(mensaje_2)\n",
        "\n",
        "mensaje = 3*mensaje_1 + \" \" + mensaje_2\n",
        "print(mensaje)"
      ],
      "execution_count": null,
      "outputs": [
        {
          "output_type": "stream",
          "text": [
            " Hola\n",
            "bienvenidos\n",
            " Hola Hola Hola bienvenidos\n"
          ],
          "name": "stdout"
        }
      ]
    },
    {
      "cell_type": "code",
      "metadata": {
        "id": "m6-kpSOkTXcN",
        "colab_type": "code",
        "colab": {}
      },
      "source": [
        ""
      ],
      "execution_count": null,
      "outputs": []
    }
  ]
}